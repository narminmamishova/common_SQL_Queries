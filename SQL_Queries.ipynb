{
 "cells": [
  {
   "cell_type": "markdown",
   "id": "2e45da52",
   "metadata": {},
   "source": [
    "# Top 10 ən çox vergi tutuan məhsullar-> top limit istifade etmeden"
   ]
  },
  {
   "cell_type": "code",
   "execution_count": null,
   "id": "9a2824d6",
   "metadata": {},
   "outputs": [],
   "source": [
    "SELECT tax,[Stock Item]\n",
    "FROM(\n",
    "select max([Tax Amount]) as tax, si.[Stock Item],\n",
    "DENSE_RANK() over( order by max([Tax Amount]) desc) as Rnk\n",
    "from Fact.Sale as fs\n",
    "inner join Dimension.[Stock Item] si\n",
    "on si.[Stock Item Key] = fs.[Stock Item Key]\n",
    "group by [Stock Item]\n",
    ")t\n",
    "where Rnk<=10 group by [Stock Item],tax order by tax desc\n"
   ]
  },
  {
   "cell_type": "markdown",
   "id": "907f7ab0",
   "metadata": {},
   "source": [
    "# Adında 3 dənə təkrar hərif olan customer-ler "
   ]
  },
  {
   "cell_type": "code",
   "execution_count": null,
   "id": "1a8e9d9a",
   "metadata": {},
   "outputs": [],
   "source": [
    "with tbl1 as\n",
    "(\n",
    "select c.[Primary Contact],\n",
    "replace(c.[Primary Contact], ' ', '')\n",
    "as [Customer Name] from Dimension.Customer c\n",
    "),\n",
    "tbl2 as\n",
    "(\n",
    "select tbl1.[Customer Name], substring(tbl1.[Customer Name],1,1) as ltr,\n",
    "substring(tbl1.[Customer Name],2, len(tbl1.[Customer Name])-1) as temp\n",
    "from tbl1\n",
    "where len(tbl1.[Customer Name])>3\n",
    "union all\n",
    "select tbl2.[Customer Name], substring(temp,1,1) as ltr,\n",
    "substring(temp, 2, len(temp)-1) as temp\n",
    "from tbl2\n",
    "where len(temp)>0\n",
    ")\n",
    "select distinct [Customer Name]\n",
    "from tbl2\n",
    "group by [Customer Name], ltr\n",
    "having count(ltr)=3"
   ]
  },
  {
   "cell_type": "markdown",
   "id": "35782e81",
   "metadata": {},
   "source": [
    "# 1 selectle  tarixçə boyu bütün işçilərdən gələn profit . ( Nəticədə 3 sütun - tarix , emploee_id , profit ) ( With ve temp cedvel istifadə etmədən)\n"
   ]
  },
  {
   "cell_type": "code",
   "execution_count": null,
   "id": "b3f55619",
   "metadata": {},
   "outputs": [],
   "source": [
    "select Date, [WWI Employee ID],Profit from(\n",
    "select fs.[Invoice Date Key] as Date,e.[WWI Employee ID], sum(fs.Profit) as Profit\n",
    "from Fact.Sale as fs  \n",
    "inner join Dimension.Employee as e\n",
    "on fs.[Salesperson Key] = e.[Employee Key]\n",
    "where [Is Salesperson] = 1\n",
    "group by [WWI Employee ID],[Invoice Date Key]\n",
    ")a order by Date asc, [WWI Employee ID]\n"
   ]
  },
  {
   "cell_type": "markdown",
   "id": "b3fdc00d",
   "metadata": {},
   "source": [
    "# Satıcıları totalsale -ə görə 3 Kategoriyaya böl. Ən zəif satış eliyənlərin siyahısın verməlidi."
   ]
  },
  {
   "cell_type": "code",
   "execution_count": null,
   "id": "d0ca82e0",
   "metadata": {},
   "outputs": [],
   "source": [
    "create table Emps(\n",
    "Employee varchar(100),\n",
    "TotalSale decimal(18,2),\n",
    "Rnk int\n",
    ")\n",
    "insert into Emps(Employee,TotalSale,Rnk)\n",
    "select de.Employee, count([Bill To Customer Key]) as TotalSale,\n",
    "ROW_NUMBER() over(order by count([Bill To Customer Key]) desc) as Rnk\n",
    "from Fact.Sale as fs\n",
    "inner join Dimension.Employee de\n",
    "on de.[Employee Key] = fs.[Salesperson Key]\n",
    "where [Is Salesperson] = 1\n",
    "group by de.Employee\n",
    "\n",
    "Declare @temp int\n",
    "select @temp =  count(Employee) from Emps\n",
    "\n",
    "select Employee,TotalSale from(\n",
    "select Employee,TotalSale, Rnk,\n",
    "case\n",
    "when Rnk<(@temp*33)/100 then 'yaxsi'\n",
    "when Rnk>(@temp*33)/100 and Rnk<=(@temp*66)/100 then 'orta'\n",
    "when Rnk>(@temp*66)/100 then 'zeif'\n",
    "end as category\n",
    "from Emps\n",
    "group by Employee,TotalSale,Rnk\n",
    ")b where category = 'zeif'"
   ]
  },
  {
   "cell_type": "markdown",
   "id": "c08bb300",
   "metadata": {},
   "source": [
    "# Ən çox satış edən 5 şəhər . Say olaraq . ( Limit , top ve sair bu tipli cutoff funkiyalardan istifadə etməden )\n"
   ]
  },
  {
   "cell_type": "code",
   "execution_count": null,
   "id": "76997056",
   "metadata": {},
   "outputs": [],
   "source": [
    "select City,TotalSale from(\n",
    "select ds.city, count([Bill To Customer Key]) as TotalSale,\n",
    "DENSE_RANK() over(order by count([Bill To Customer Key]) desc) as Rnk\n",
    "from Fact.Sale as fs\n",
    "inner join Dimension.City ds\n",
    "on ds.[City Key] = fs.[City Key]\n",
    "group by ds.City\n",
    ")a\n",
    "where a.Rnk<=5"
   ]
  },
  {
   "cell_type": "markdown",
   "id": "625c500c",
   "metadata": {},
   "source": [
    "# Ən gec satılan top 5 məhsul."
   ]
  },
  {
   "cell_type": "code",
   "execution_count": null,
   "id": "530aecdc",
   "metadata": {},
   "outputs": [],
   "source": [
    "select [Stock Item],Date from(\n",
    "select s.[Stock Item], fs.[Invoice Date Key] as Date,\n",
    "row_number() over(order by fs.[Invoice Date Key] desc) as Rnk\n",
    "from Fact.Sale as fs\n",
    "inner join Dimension.[Stock Item] s\n",
    "on s.[Stock Item Key] = fs.[Stock Item Key]\n",
    "group by s.[Stock Item], [Invoice Date Key]\n",
    ")a\n",
    "where a.Rnk<=200"
   ]
  },
  {
   "cell_type": "markdown",
   "id": "f665abef",
   "metadata": {},
   "source": [
    "# Hər bir gün üzrə satıcını satış edib etmədiyinə baxılsın. hansi gun satış etməyibsə qabağına 0 yazılsın"
   ]
  },
  {
   "cell_type": "code",
   "execution_count": null,
   "id": "834cde6f",
   "metadata": {},
   "outputs": [],
   "source": [
    "CREATE TABLE _Dates (\n",
    "  d DATE,\n",
    "  PRIMARY KEY (d)\n",
    ")\n",
    "\n",
    "DECLARE @dIncr DATE = '2013-01-01'\n",
    "DECLARE @dEnd DATE = '2016-05-31'\n",
    "\n",
    "WHILE ( @dIncr < @dEnd )\n",
    "BEGIN\n",
    "  INSERT INTO _Dates (d) VALUES( @dIncr )\n",
    "  SELECT @dIncr = DATEADD(DAY, 1, @dIncr )\n",
    "END\n",
    "\n",
    "select _Dates.d,\n",
    "coalesce(a.[Amy Trefl],0) as [Amy Trefl],coalesce(a.[Anthony Grosse],0) as [Anthony Grosse],\n",
    "coalesce(a.[Archer Lamble],0) as [Archer Lamble],coalesce(a.[Hudson Hollinworth],0) as [Hudson Hollinworth],\n",
    "coalesce(a.[Hudson Onslow],0) as [Hudson Onslow],coalesce(a.[Jack Potter],0) as[Jack Potter],\n",
    "coalesce(a.[Kayla Woodcock],0) as [Kayla Woodcock],coalesce(a.[Lily Code],0)as [Kayla Woodcock],\n",
    "coalesce(a.[Sophia Hinton],0) as [Sophia Hinton],coalesce(a.[Taj Shand],0) as [Taj Shand]from _Dates\n",
    "left join(\n",
    "SELECT * FROM\n",
    "(\n",
    "select fs.[Invoice Date Key] as Date,e.Employee, sum(fs.Profit) as Profit\n",
    "from Fact.Sale as fs  \n",
    "inner join Dimension.Employee as e\n",
    "on fs.[Salesperson Key] = e.[Employee Key]\n",
    "where [Is Salesperson] = 1\n",
    "group by Employee,[Invoice Date Key]\n",
    ")a PIVOT(sum(Profit) FOR Employee IN([Amy Trefl],[Lily Code],[Kayla Woodcock],[Sophia Hinton],[Archer Lamble],\n",
    "[Anthony Grosse],[Hudson Onslow],[Taj Shand],[Hudson Hollinworth],[Jack Potter])) AS PivotTable\n",
    ")a\n",
    "on _Dates.d = a.Date\n",
    "order by _Dates.d\n"
   ]
  },
  {
   "cell_type": "markdown",
   "id": "232b13d7",
   "metadata": {},
   "source": [
    "# Ən çox satış  edən 3-cü yerə layiq satıcılar ."
   ]
  },
  {
   "cell_type": "code",
   "execution_count": null,
   "id": "263abc0e",
   "metadata": {},
   "outputs": [],
   "source": [
    "select Employee,TotalSale from(\n",
    "select de.Employee, count([Bill To Customer Key]) as TotalSale,\n",
    "DENSE_RANK() over(order by count([Bill To Customer Key]) desc) as Rnk\n",
    "from Fact.Sale as fs\n",
    "inner join Dimension.Employee de\n",
    "on de.[Employee Key] = fs.[Salesperson Key]\n",
    "group by de.Employee\n",
    ")a\n",
    "where a.Rnk=3"
   ]
  },
  {
   "cell_type": "markdown",
   "id": "0acd2a8b",
   "metadata": {},
   "source": [
    "# Tarixcə boyu satılma sayı ən az olan 5 məhsul siayhısı"
   ]
  },
  {
   "cell_type": "code",
   "execution_count": null,
   "id": "95915722",
   "metadata": {},
   "outputs": [],
   "source": [
    "select [Stock Item],TotalSale\n",
    "from(\n",
    "select si.[Stock Item], count([Invoice Date Key]) as TotalSale,\n",
    "Dense_rank() over(order by count([Invoice Date Key]) asc) as Rnk\n",
    "from Fact.Sale as fs\n",
    "inner join Dimension.[Stock Item] si\n",
    "on si.[Stock Item Key] = fs.[Stock Item Key]\n",
    "group by si.[Stock Item]\n",
    ")a\n",
    "where Rnk<=5"
   ]
  },
  {
   "cell_type": "markdown",
   "id": "cf2ab4a1",
   "metadata": {},
   "source": [
    "# Profiti ən az olan 5 İşci "
   ]
  },
  {
   "cell_type": "code",
   "execution_count": null,
   "id": "1eda9e42",
   "metadata": {},
   "outputs": [],
   "source": [
    "select Employee, Profit\n",
    "from(\n",
    "select e.Employee, sum(sq.Profit) as Profit,\n",
    "Row_Number() over(order by sum(Profit) asc) as Rnk\n",
    "from Dimension.Employee as e\n",
    "inner join Fact.Sale as sq on e.[Employee Key] = sq.[Salesperson Key]\n",
    "where [Is Salesperson] = 1\n",
    "group by Employee\n",
    ")t where Rnk<=5"
   ]
  }
 ],
 "metadata": {
  "kernelspec": {
   "display_name": "Python 3 (ipykernel)",
   "language": "python",
   "name": "python3"
  },
  "language_info": {
   "codemirror_mode": {
    "name": "ipython",
    "version": 3
   },
   "file_extension": ".py",
   "mimetype": "text/x-python",
   "name": "python",
   "nbconvert_exporter": "python",
   "pygments_lexer": "ipython3",
   "version": "3.9.0"
  }
 },
 "nbformat": 4,
 "nbformat_minor": 5
}
